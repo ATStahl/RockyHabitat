{
 "cells": [
  {
   "cell_type": "markdown",
   "id": "95a8f02b",
   "metadata": {
    "tags": []
   },
   "source": [
    "## Import packages"
   ]
  },
  {
   "cell_type": "code",
   "execution_count": null,
   "id": "be581943-1be5-446b-8619-e54f1778ccf7",
   "metadata": {},
   "outputs": [],
   "source": [
    "pip install pandas"
   ]
  },
  {
   "cell_type": "code",
   "execution_count": null,
   "id": "613765f7-6374-4209-9e74-6847f7e74dfa",
   "metadata": {},
   "outputs": [],
   "source": [
    "! python --version"
   ]
  },
  {
   "cell_type": "code",
   "execution_count": null,
   "id": "e8a4ab1f",
   "metadata": {},
   "outputs": [],
   "source": [
    "pip install segmenteverygrain"
   ]
  },
  {
   "cell_type": "code",
   "execution_count": null,
   "id": "751361f0-e6ae-4848-a6d5-abbff491975e",
   "metadata": {},
   "outputs": [],
   "source": [
    "pip install opencv-python"
   ]
  },
  {
   "cell_type": "code",
   "execution_count": null,
   "id": "27aac243-7728-4c26-8f66-2d727d26263c",
   "metadata": {},
   "outputs": [],
   "source": [
    "pip install tensorflow==2.13.0"
   ]
  },
  {
   "cell_type": "code",
   "execution_count": null,
   "id": "f86ef8e6-f8cf-49d3-af67-39ff98204dac",
   "metadata": {},
   "outputs": [],
   "source": [
    "pip install matplotlib"
   ]
  },
  {
   "cell_type": "code",
   "execution_count": null,
   "id": "9b77cd06",
   "metadata": {},
   "outputs": [],
   "source": [
    "pip install scikit-image"
   ]
  },
  {
   "cell_type": "code",
   "execution_count": null,
   "id": "010f4830",
   "metadata": {},
   "outputs": [],
   "source": [
    "pip install keras==2.0.0"
   ]
  },
  {
   "cell_type": "code",
   "execution_count": null,
   "id": "43ef161e-586b-4e2f-bc61-4bc689b7ec01",
   "metadata": {},
   "outputs": [],
   "source": [
    "pip install scikit-learn"
   ]
  },
  {
   "cell_type": "code",
   "execution_count": null,
   "id": "dd43a1c3-283d-4ee6-82b7-93afc2672dba",
   "metadata": {},
   "outputs": [],
   "source": [
    "pip install torchvision"
   ]
  },
  {
   "cell_type": "code",
   "execution_count": null,
   "id": "3a594ba3-d7a7-42b9-9aa7-89e0bebc92b0",
   "metadata": {},
   "outputs": [],
   "source": [
    "pip install contextily"
   ]
  },
  {
   "cell_type": "markdown",
   "id": "f474ac20",
   "metadata": {
    "tags": []
   },
   "source": [
    "## Load models"
   ]
  },
  {
   "cell_type": "code",
   "execution_count": null,
   "id": "f2ebc518",
   "metadata": {
    "scrolled": true
   },
   "outputs": [],
   "source": [
    "import pandas as pd\n",
    "import numpy as np\n",
    "import matplotlib.pyplot as plt\n",
    "import cv2\n",
    "from skimage import measure\n",
    "from skimage.measure import regionprops, regionprops_table\n",
    "from tensorflow.keras.optimizers.legacy import Adam\n",
    "from tensorflow.keras.preprocessing.image import load_img\n",
    "from importlib import reload\n",
    "import segmenteverygrain as seg\n",
    "from segment_anything import sam_model_registry, SamAutomaticMaskGenerator, SamPredictor\n",
    "from tqdm import trange\n",
    "%matplotlib qt"
   ]
  },
  {
   "cell_type": "code",
   "execution_count": null,
   "id": "fe1bd2bc",
   "metadata": {
    "scrolled": true
   },
   "outputs": [],
   "source": [
    "model = seg.Unet()\n",
    "model.compile(optimizer=Adam(), loss=seg.weighted_crossentropy, metrics=[\"accuracy\"])\n",
    "# you need to download the 'segmenteverygrain' model for this to work ()\n",
    "model.load_weights('./checkpoints/seg_model');\n",
    "\n",
    "# the SAM model checkpoints can be downloaded from: https://dl.fbaipublicfiles.com/segment_anything/sam_vit_h_4b8939.pth\n",
    "sam = sam_model_registry[\"default\"](checkpoint=\"./checkpoints/sam_vit_h_4b8939.pth\")"
   ]
  },
  {
   "cell_type": "code",
   "execution_count": null,
   "id": "6dcff8e9-720a-4d5b-a3d8-97ede03585c5",
   "metadata": {},
   "outputs": [],
   "source": [
    "from PIL import Image\n",
    "Image.MAX_IMAGE_PIXELS = None # needed if working with very large images\n",
    "fname = \"./ML1.jpg\"\n",
    "all_grains = seg.predict_large_image(fname, model, sam, min_area=400.0, patch_size=2000, overlap=200)"
   ]
  },
  {
   "cell_type": "code",
   "execution_count": null,
   "id": "d6eeaee7-efe1-497d-935e-a17972be743a",
   "metadata": {},
   "outputs": [],
   "source": [
    "# plot results\n",
    "image = np.array(load_img(fname))\n",
    "fig, ax = plt.subplots(figsize=(15,10))\n",
    "ax.imshow(image)\n",
    "plt.xticks([])\n",
    "plt.yticks([])\n",
    "seg.plot_image_w_colorful_grains(image, all_grains, ax, cmap='Paired')\n",
    "plt.axis('equal')\n",
    "plt.xlim([0, np.shape(image)[1]])\n",
    "plt.ylim([np.shape(image)[0], 0]);"
   ]
  },
  {
   "cell_type": "markdown",
   "id": "968737c4",
   "metadata": {
    "tags": []
   },
   "source": [
    "## Delete or merge grains in segmentation result\n",
    "* click on the grain that you want to remove and press the 'x' key\n",
    "* click on two grains that you want to merge and press the 'm' key (they have to be the last two grains you clicked on)\n",
    "* press the 'g' key to hide the grain masks (so that you can see the original image better); press the 'g' key again to show the grain masks"
   ]
  },
  {
   "cell_type": "code",
   "execution_count": null,
   "id": "e1761761",
   "metadata": {},
   "outputs": [],
   "source": [
    "grain_inds = []\n",
    "cid1 = fig.canvas.mpl_connect('button_press_event', \n",
    "                              lambda event: seg.onclick2(event, all_grains, grain_inds, ax=ax))\n",
    "cid2 = fig.canvas.mpl_connect('key_press_event', \n",
    "                              lambda event: seg.onpress2(event, all_grains, grain_inds, fig=fig, ax=ax))"
   ]
  },
  {
   "cell_type": "markdown",
   "id": "5d08448d",
   "metadata": {},
   "source": [
    "Run this cell if you do not want to delete / merge existing grains anymore; it is a good idea to do this before moving on to the next step."
   ]
  },
  {
   "cell_type": "code",
   "execution_count": null,
   "id": "8b6987ae",
   "metadata": {},
   "outputs": [],
   "source": [
    "fig.canvas.mpl_disconnect(cid1)\n",
    "fig.canvas.mpl_disconnect(cid2)"
   ]
  },
  {
   "cell_type": "markdown",
   "id": "b1ef7d75",
   "metadata": {},
   "source": [
    "Use this function to update the 'all_grains' list after deleting and merging grains:"
   ]
  },
  {
   "cell_type": "code",
   "execution_count": null,
   "id": "9f7b8082",
   "metadata": {},
   "outputs": [],
   "source": [
    "all_grains, labels, mask_all, fig, ax = seg.get_grains_from_patches(ax, image)"
   ]
  },
  {
   "cell_type": "markdown",
   "id": "36ca344c",
   "metadata": {},
   "source": [
    "Plot the updated set of grains:"
   ]
  },
  {
   "cell_type": "code",
   "execution_count": null,
   "id": "7e0f7f02",
   "metadata": {},
   "outputs": [],
   "source": [
    "fig, ax = plt.subplots(figsize=(15,10))\n",
    "ax.imshow(image)\n",
    "plt.xticks([])\n",
    "plt.yticks([])\n",
    "seg.plot_image_w_colorful_grains(image, all_grains, ax, cmap='Paired')\n",
    "seg.plot_grain_axes_and_centroids(all_grains, labels, ax, linewidth=1, markersize=10)\n",
    "plt.xlim([0, np.shape(image)[1]])\n",
    "plt.ylim([np.shape(image)[0], 0]);"
   ]
  },
  {
   "cell_type": "markdown",
   "id": "ab7201a5",
   "metadata": {
    "tags": []
   },
   "source": [
    "## Add new grains using the Segment Anything Model\n",
    "\n",
    "* click on unsegmented grain that you want to add\n",
    "* press the 'x' key if you want to delete the last grain you added\n",
    "* press the 'm' key if you want to merge the last two grains that you added\n",
    "* right click outside the grain (but inside the most recent mask) if you want to restrict the grain to a smaller mask - this adds a background prompt"
   ]
  },
  {
   "cell_type": "code",
   "execution_count": null,
   "id": "04b1a138",
   "metadata": {},
   "outputs": [],
   "source": [
    "predictor = SamPredictor(sam)\n",
    "predictor.set_image(image) # this can take a while\n",
    "coords = []\n",
    "cid3 = fig.canvas.mpl_connect('button_press_event', lambda event: seg.onclick(event, ax, coords, image, predictor))\n",
    "cid4 = fig.canvas.mpl_connect('key_press_event', lambda event: seg.onpress(event, ax, fig))"
   ]
  },
  {
   "cell_type": "markdown",
   "id": "6ae4b89a",
   "metadata": {},
   "source": [
    "After you are done with the deletion / addition of grain masks, run this cell to generate an updated set of grains:"
   ]
  },
  {
   "cell_type": "code",
   "execution_count": null,
   "id": "02386a92",
   "metadata": {},
   "outputs": [],
   "source": [
    "fig.canvas.mpl_disconnect(cid3)\n",
    "fig.canvas.mpl_disconnect(cid4)"
   ]
  },
  {
   "cell_type": "code",
   "execution_count": null,
   "id": "4355b526",
   "metadata": {},
   "outputs": [],
   "source": [
    "all_grains, labels, mask_all, fig, ax = seg.get_grains_from_patches(ax, image)"
   ]
  },
  {
   "cell_type": "code",
   "execution_count": null,
   "id": "98e01389",
   "metadata": {
    "scrolled": true
   },
   "outputs": [],
   "source": [
    "all_grains"
   ]
  },
  {
   "cell_type": "markdown",
   "id": "768a05d2",
   "metadata": {
    "tags": []
   },
   "source": [
    "## Get grain size distribution"
   ]
  },
  {
   "cell_type": "markdown",
   "id": "96892a89",
   "metadata": {},
   "source": [
    "Run this cell and then click (left mouse button) on one end of the scale bar in the image and click (right mouse button) on the other end of the scale bar:"
   ]
  },
  {
   "cell_type": "code",
   "execution_count": null,
   "id": "869c6cd4",
   "metadata": {},
   "outputs": [],
   "source": [
    "cid5 = fig.canvas.mpl_connect('button_press_event', lambda event: seg.click_for_scale(event, ax))"
   ]
  },
  {
   "cell_type": "markdown",
   "id": "658e2f0a",
   "metadata": {},
   "source": [
    "Use the length of the scale bar in pixels (it should be printed above) to get the scale of the image (in units / pixel):"
   ]
  },
  {
   "cell_type": "code",
   "execution_count": null,
   "id": "7893cfb7",
   "metadata": {},
   "outputs": [],
   "source": [
    "n_of_units = 1000 # centimeters in the case of 'IMG_5208_image.png' \n",
    "units_per_pixel = n_of_units/3998.11 # length of scale bar in pixels"
   ]
  },
  {
   "cell_type": "code",
   "execution_count": null,
   "id": "b56c5732",
   "metadata": {},
   "outputs": [],
   "source": [
    "props = regionprops_table(labels.astype('int'), intensity_image = image, properties =\\\n",
    "        ('label', 'area', 'centroid', 'major_axis_length', 'minor_axis_length', \n",
    "         'orientation', 'perimeter', 'max_intensity', 'mean_intensity', 'min_intensity'))\n",
    "grain_data = pd.DataFrame(props)\n",
    "grain_data['major_axis_length'] = grain_data['major_axis_length'].values*units_per_pixel\n",
    "grain_data['minor_axis_length'] = grain_data['minor_axis_length'].values*units_per_pixel\n",
    "grain_data['perimeter'] = grain_data['perimeter'].values*units_per_pixel\n",
    "grain_data['area'] = grain_data['area'].values*units_per_pixel**2"
   ]
  },
  {
   "cell_type": "code",
   "execution_count": null,
   "id": "ac989ca0",
   "metadata": {
    "scrolled": true
   },
   "outputs": [],
   "source": [
    "#props"
   ]
  },
  {
   "cell_type": "code",
   "execution_count": null,
   "id": "59629108",
   "metadata": {},
   "outputs": [],
   "source": [
    "grain_data.head()"
   ]
  },
  {
   "cell_type": "code",
   "execution_count": null,
   "id": "202f5650",
   "metadata": {},
   "outputs": [],
   "source": [
    "len(grain_data)"
   ]
  },
  {
   "cell_type": "code",
   "execution_count": null,
   "id": "a8663eef",
   "metadata": {},
   "outputs": [],
   "source": [
    "plt.figure()\n",
    "plt.hist(grain_data['major_axis_length'], 25)\n",
    "plt.xlabel('major axis length (cm)')\n",
    "plt.ylabel('count');"
   ]
  },
  {
   "cell_type": "markdown",
   "id": "039415c6",
   "metadata": {
    "tags": []
   },
   "source": [
    "## Save mask and image to PNG files"
   ]
  },
  {
   "cell_type": "code",
   "execution_count": null,
   "id": "c4962ba6",
   "metadata": {},
   "outputs": [],
   "source": [
    "dirname = 'C:/Users/anafe/Desktop/Segmenteverygrain/Outputs/ML2/'\n",
    "# write grayscale mask to PNG file\n",
    "cv2.imwrite(dirname + fname.split('/')[-1][:-4] + '_mask.png', mask_all)\n",
    "# Save the image as a PNG file\n",
    "cv2.imwrite(dirname + fname.split('/')[-1][:-4] + '_image.png', cv2.cvtColor(image, cv2.COLOR_BGR2RGB))"
   ]
  },
  {
   "cell_type": "markdown",
   "id": "24f154fb",
   "metadata": {
    "tags": []
   },
   "source": [
    "## Convert polygon rows and columns coordinates to projected coordinates and save them to shapefile"
   ]
  },
  {
   "cell_type": "code",
   "execution_count": null,
   "id": "889324b0-2e31-4341-927c-a2d45621a6f1",
   "metadata": {},
   "outputs": [],
   "source": [
    "# To georeference the shapefile add the correspondig TIF file"
   ]
  },
  {
   "cell_type": "code",
   "execution_count": null,
   "id": "ae6596c7-2396-4bc7-880e-00fa03b9c878",
   "metadata": {},
   "outputs": [],
   "source": [
    "fname1 = \"./ML1.tif\""
   ]
  },
  {
   "cell_type": "code",
   "execution_count": null,
   "id": "e2af34e4-15a0-4e3a-89dd-77b8294fe35d",
   "metadata": {},
   "outputs": [],
   "source": [
    "import rasterio\n",
    "dataset = rasterio.open(fname1)"
   ]
  },
  {
   "cell_type": "code",
   "execution_count": null,
   "id": "3c4fe439",
   "metadata": {},
   "outputs": [],
   "source": [
    "dataset.meta"
   ]
  },
  {
   "cell_type": "code",
   "execution_count": null,
   "id": "26b2fc5b",
   "metadata": {},
   "outputs": [],
   "source": [
    "# convert polygon coordinates from row, col to UTM\n",
    "from shapely.geometry import Polygon\n",
    "projected_polys = []\n",
    "for grain in all_grains:\n",
    "    x, y = rasterio.transform.xy(dataset.transform, grain.exterior.xy[1], grain.exterior.xy[0])\n",
    "    poly = Polygon(np.vstack((x, y)).T)\n",
    "    projected_polys.append(poly)"
   ]
  },
  {
   "cell_type": "code",
   "execution_count": null,
   "id": "13746f7b",
   "metadata": {},
   "outputs": [],
   "source": [
    "# create georeferenced pandas dataframe\n",
    "import geopandas\n",
    "gdf = geopandas.GeoDataFrame(projected_polys, columns = ['geometry'])\n",
    "gdf.head(5)"
   ]
  },
  {
   "cell_type": "code",
   "execution_count": null,
   "id": "548b71c0",
   "metadata": {},
   "outputs": [],
   "source": [
    "# create property dataframe from labeled image\n",
    "props = regionprops_table(labels.astype('int'), intensity_image = image, properties =\\\n",
    "        ('label', 'area', 'perimeter','centroid', 'major_axis_length', 'minor_axis_length'))\n",
    "grain_data = pd.DataFrame(props)\n",
    "grain_data['major_axis_length'] = grain_data['major_axis_length'].values\n",
    "grain_data['minor_axis_length'] = grain_data['minor_axis_length'].values\n",
    "grain_data['area'] = grain_data['area'].values\n",
    "grain_data['perimeter'] = grain_data['perimeter'].values*units_per_pixel\n",
    "grain_data.head()"
   ]
  },
  {
   "cell_type": "code",
   "execution_count": null,
   "id": "552ca32c",
   "metadata": {
    "scrolled": true
   },
   "outputs": [],
   "source": [
    "# convert centroids from row, col to UTM and add them to geodataframe\n",
    "centroid_x, centroid_y = rasterio.transform.xy(dataset.transform, grain_data['centroid-0'], \n",
    "                                               grain_data['centroid-1'])\n",
    "gdf['centroid_x'] = centroid_x\n",
    "gdf['centroid_y'] = centroid_y"
   ]
  },
  {
   "cell_type": "code",
   "execution_count": null,
   "id": "f1b8a302",
   "metadata": {},
   "outputs": [],
   "source": [
    "# convert grain axis lengths to UTM units\n",
    "gdf['major_axis_length'] = grain_data['major_axis_length'] * dataset.transform[0]\n",
    "gdf['minor_axis_length'] = grain_data['minor_axis_length'] * dataset.transform[0]\n",
    "gdf['area'] = grain_data['area'] * dataset.transform[0]\n",
    "gdf['perimeter'] = grain_data['perimeter'] * dataset.transform[0]\n",
    "gdf.head()"
   ]
  },
  {
   "cell_type": "code",
   "execution_count": null,
   "id": "1a7a7dd3",
   "metadata": {},
   "outputs": [],
   "source": [
    "# check if everything looks good\n",
    "band1 = dataset.read(1)\n",
    "band2 = dataset.read(2)\n",
    "band3 = dataset.read(3)\n",
    "plt.figure()\n",
    "plt.imshow(np.stack((band1, band2, band3), axis=2), extent = [dataset.bounds[0], dataset.bounds[2], \n",
    "                                         dataset.bounds[1], dataset.bounds[3]])\n",
    "plt.scatter(gdf['centroid_x'], gdf['centroid_y']);"
   ]
  },
  {
   "cell_type": "code",
   "execution_count": null,
   "id": "2e284de5",
   "metadata": {},
   "outputs": [],
   "source": [
    "gdf.crs = dataset.crs # set geodataframe CRS"
   ]
  },
  {
   "cell_type": "code",
   "execution_count": null,
   "id": "27f9b8b3",
   "metadata": {},
   "outputs": [],
   "source": [
    "gdf.to_file('C:/Users/anafe/Desktop/Segmenteverygrain/Outputs/ML1/ML1.shp') # write shapefile"
   ]
  },
  {
   "cell_type": "code",
   "execution_count": null,
   "id": "b0df1b9f-063b-4122-ab15-b61bae587996",
   "metadata": {},
   "outputs": [],
   "source": [
    "#pip install openpyxl"
   ]
  },
  {
   "cell_type": "code",
   "execution_count": null,
   "id": "0cc457e4",
   "metadata": {},
   "outputs": [],
   "source": [
    "gdf.to_excel('C:/Users/anafe/Desktop/Segmenteverygrain/Outputs/ML1/ML1.xlsx')"
   ]
  },
  {
   "cell_type": "code",
   "execution_count": null,
   "id": "361ceb2d",
   "metadata": {},
   "outputs": [],
   "source": [
    "dataset.close()"
   ]
  },
  {
   "cell_type": "code",
   "execution_count": null,
   "id": "eb880f3f-43c2-4563-b6f9-4a5a0c740326",
   "metadata": {},
   "outputs": [],
   "source": []
  }
 ],
 "metadata": {
  "kernelspec": {
   "display_name": "Python 3.8 (py38_env)",
   "language": "python",
   "name": "py38_env"
  },
  "language_info": {
   "codemirror_mode": {
    "name": "ipython",
    "version": 3
   },
   "file_extension": ".py",
   "mimetype": "text/x-python",
   "name": "python",
   "nbconvert_exporter": "python",
   "pygments_lexer": "ipython3",
   "version": "3.8.19"
  }
 },
 "nbformat": 4,
 "nbformat_minor": 5
}
