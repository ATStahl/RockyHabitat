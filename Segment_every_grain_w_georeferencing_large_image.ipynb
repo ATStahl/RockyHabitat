{
 "cells": [
  {
   "cell_type": "markdown",
   "id": "95a8f02b",
   "metadata": {
    "tags": []
   },
   "source": [
    "## Import packages"
   ]
  },
  {
   "cell_type": "code",
   "execution_count": null,
   "id": "9a90e89a-65f7-4a23-af08-d3afdb1b2243",
   "metadata": {},
   "outputs": [],
   "source": [
    "#pip uninstall numpy>=1.19.5"
   ]
  },
  {
   "cell_type": "code",
   "execution_count": null,
   "id": "d380c1bd-8242-4ac1-bf70-feddf0765541",
   "metadata": {},
   "outputs": [],
   "source": [
    "#import numpy as np\n",
    "#print(np.__version__)"
   ]
  },
  {
   "cell_type": "code",
   "execution_count": null,
   "id": "a739fbde-14d0-4ff1-902c-15a2947ad9d3",
   "metadata": {},
   "outputs": [],
   "source": [
    "#pip install typing-extensions>=4.8.0"
   ]
  },
  {
   "cell_type": "code",
   "execution_count": null,
   "id": "613765f7-6374-4209-9e74-6847f7e74dfa",
   "metadata": {},
   "outputs": [],
   "source": [
    "#! python --version"
   ]
  },
  {
   "cell_type": "markdown",
   "id": "ad8c765e-295e-4407-a440-06c5dc1b3c9a",
   "metadata": {
    "jp-MarkdownHeadingCollapsed": true
   },
   "source": [
    "## The code starts from here"
   ]
  },
  {
   "cell_type": "code",
   "execution_count": null,
   "id": "e8a4ab1f",
   "metadata": {
    "scrolled": true
   },
   "outputs": [],
   "source": [
    "pip install segmenteverygrain"
   ]
  },
  {
   "cell_type": "code",
   "execution_count": null,
   "id": "be581943-1be5-446b-8619-e54f1778ccf7",
   "metadata": {},
   "outputs": [],
   "source": [
    "pip install pandas"
   ]
  },
  {
   "cell_type": "code",
   "execution_count": null,
   "id": "43ef161e-586b-4e2f-bc61-4bc689b7ec01",
   "metadata": {
    "scrolled": true
   },
   "outputs": [],
   "source": [
    "pip install scikit-learn"
   ]
  },
  {
   "cell_type": "code",
   "execution_count": null,
   "id": "068abdae-3225-4b80-9276-a288aec07043",
   "metadata": {},
   "outputs": [],
   "source": [
    "pip install rtree"
   ]
  },
  {
   "cell_type": "code",
   "execution_count": null,
   "id": "dd43a1c3-283d-4ee6-82b7-93afc2672dba",
   "metadata": {},
   "outputs": [],
   "source": [
    "pip install torchvision"
   ]
  },
  {
   "cell_type": "code",
   "execution_count": null,
   "id": "49c5afc8-6428-42be-aaae-523eadde27c5",
   "metadata": {},
   "outputs": [],
   "source": [
    "pip install PyQt5"
   ]
  },
  {
   "cell_type": "code",
   "execution_count": null,
   "id": "fbfc7a26-6d22-49d9-ba91-a17df9de2ade",
   "metadata": {},
   "outputs": [],
   "source": [
    "pip install geopandas"
   ]
  },
  {
   "cell_type": "markdown",
   "id": "f474ac20",
   "metadata": {
    "tags": []
   },
   "source": [
    "## Load models"
   ]
  },
  {
   "cell_type": "code",
   "execution_count": 1,
   "id": "f2ebc518",
   "metadata": {
    "scrolled": true
   },
   "outputs": [],
   "source": [
    "import pandas as pd\n",
    "import numpy as np\n",
    "import matplotlib.pyplot as plt\n",
    "import cv2\n",
    "from skimage import measure\n",
    "from skimage.measure import regionprops, regionprops_table\n",
    "from tensorflow.keras.optimizers.legacy import Adam\n",
    "from tensorflow.keras.preprocessing.image import load_img\n",
    "from importlib import reload\n",
    "import segmenteverygrain as seg\n",
    "from segment_anything import sam_model_registry, SamAutomaticMaskGenerator, SamPredictor\n",
    "from tqdm import trange\n",
    "%matplotlib qt"
   ]
  },
  {
   "cell_type": "code",
   "execution_count": 2,
   "id": "fe1bd2bc",
   "metadata": {},
   "outputs": [
    {
     "name": "stderr",
     "output_type": "stream",
     "text": [
      "C:\\Users\\ana.torresferreira\\AppData\\Local\\anaconda3\\envs\\py38\\lib\\site-packages\\segment_anything\\build_sam.py:105: FutureWarning: You are using `torch.load` with `weights_only=False` (the current default value), which uses the default pickle module implicitly. It is possible to construct malicious pickle data which will execute arbitrary code during unpickling (See https://github.com/pytorch/pytorch/blob/main/SECURITY.md#untrusted-models for more details). In a future release, the default value for `weights_only` will be flipped to `True`. This limits the functions that could be executed during unpickling. Arbitrary objects will no longer be allowed to be loaded via this mode unless they are explicitly allowlisted by the user via `torch.serialization.add_safe_globals`. We recommend you start setting `weights_only=True` for any use case where you don't have full control of the loaded file. Please open an issue on GitHub for any issues related to this experimental feature.\n",
      "  state_dict = torch.load(f)\n"
     ]
    }
   ],
   "source": [
    "model = seg.Unet()\n",
    "model.compile(optimizer=Adam(), loss=seg.weighted_crossentropy, metrics=[\"accuracy\"])\n",
    "# you need to download the 'segmenteverygrain' model for this to work ()\n",
    "model.load_weights('./checkpoints/seg_model');\n",
    "\n",
    "# the SAM model checkpoints can be downloaded from: https://dl.fbaipublicfiles.com/segment_anything/sam_vit_h_4b8939.pth\n",
    "sam = sam_model_registry[\"default\"](checkpoint=\"./checkpoints/sam_vit_h_4b8939.pth\")"
   ]
  },
  {
   "cell_type": "code",
   "execution_count": null,
   "id": "4e40a99a-bce7-493f-b4a4-e5bb3e24b59f",
   "metadata": {},
   "outputs": [],
   "source": [
    "#fname = './AL2_H1_r.tif'"
   ]
  },
  {
   "cell_type": "code",
   "execution_count": null,
   "id": "85b2ae32-3b0d-4a04-970f-eae220d87cc5",
   "metadata": {},
   "outputs": [],
   "source": [
    "#big_im = np.array(load_img(fname))\n",
    "#big_im_pred = seg.predict_image(big_im, model, I=256)\n",
    "# decreasing the 'dbs_max_dist' parameter results in more SAM prompts (and longer processing times):\n",
    "#labels, grains = seg.label_grains(big_im, big_im_pred, dbs_max_dist=10.0)\n",
    "#all_grains, labels, mask_all, grain_data, fig, ax = seg.sam_segmentation(sam, big_im, big_im_pred, labels, min_area=50.0)"
   ]
  },
  {
   "cell_type": "code",
   "execution_count": 3,
   "id": "6dcff8e9-720a-4d5b-a3d8-97ede03585c5",
   "metadata": {},
   "outputs": [],
   "source": [
    "from PIL import Image\n",
    "Image.MAX_IMAGE_PIXELS = None # needed if working with very large images\n",
    "fname = \"./SM1_H1.2.jpg\""
   ]
  },
  {
   "cell_type": "code",
   "execution_count": null,
   "id": "b04f9fe0-40c2-404b-9715-ca69b54a0a12",
   "metadata": {},
   "outputs": [
    {
     "name": "stdout",
     "output_type": "stream",
     "text": [
      "segmenting image tiles...\n"
     ]
    },
    {
     "name": "stderr",
     "output_type": "stream",
     "text": [
      "100%|██████████| 6/6 [00:07<00:00,  1.23s/it]\n",
      "100%|██████████| 5/5 [00:05<00:00,  1.19s/it]\n"
     ]
    },
    {
     "name": "stdout",
     "output_type": "stream",
     "text": [
      "creating masks using SAM...\n"
     ]
    },
    {
     "name": "stderr",
     "output_type": "stream",
     "text": [
      " 81%|████████  | 648/804 [01:08<00:17,  8.92it/s]"
     ]
    }
   ],
   "source": [
    "all_grains = seg.predict_large_image(fname, model, sam, min_area=1000.0, patch_size=2000, overlap=200)"
   ]
  },
  {
   "cell_type": "code",
   "execution_count": null,
   "id": "d6eeaee7-efe1-497d-935e-a17972be743a",
   "metadata": {},
   "outputs": [],
   "source": [
    "# plot results\n",
    "image = np.array(load_img(fname))\n",
    "fig, ax = plt.subplots(figsize=(15,10))\n",
    "ax.imshow(image)\n",
    "plt.xticks([])\n",
    "plt.yticks([])\n",
    "seg.plot_image_w_colorful_grains(image, all_grains, ax, cmap='Paired')\n",
    "plt.axis('equal')\n",
    "plt.xlim([0, np.shape(image)[1]])\n",
    "plt.ylim([np.shape(image)[0], 0]);"
   ]
  },
  {
   "cell_type": "markdown",
   "id": "968737c4",
   "metadata": {
    "tags": []
   },
   "source": [
    "## Delete or merge grains in segmentation result\n",
    "* click on the grain that you want to remove and press the 'x' key\n",
    "* click on two grains that you want to merge and press the 'm' key (they have to be the last two grains you clicked on)\n",
    "* press the 'g' key to hide the grain masks (so that you can see the original image better); press the 'g' key again to show the grain masks"
   ]
  },
  {
   "cell_type": "code",
   "execution_count": null,
   "id": "e1761761",
   "metadata": {},
   "outputs": [],
   "source": [
    "grain_inds = []\n",
    "cid1 = fig.canvas.mpl_connect('button_press_event', \n",
    "                              lambda event: seg.onclick2(event, all_grains, grain_inds, ax=ax))\n",
    "cid2 = fig.canvas.mpl_connect('key_press_event', \n",
    "                              lambda event: seg.onpress2(event, all_grains, grain_inds, fig=fig, ax=ax))"
   ]
  },
  {
   "cell_type": "markdown",
   "id": "5d08448d",
   "metadata": {},
   "source": [
    "Run this cell if you do not want to delete / merge existing grains anymore; it is a good idea to do this before moving on to the next step."
   ]
  },
  {
   "cell_type": "code",
   "execution_count": null,
   "id": "8b6987ae",
   "metadata": {},
   "outputs": [],
   "source": [
    "fig.canvas.mpl_disconnect(cid1)\n",
    "fig.canvas.mpl_disconnect(cid2)"
   ]
  },
  {
   "cell_type": "markdown",
   "id": "b1ef7d75",
   "metadata": {},
   "source": [
    "Use this function to update the 'all_grains' list after deleting and merging grains:"
   ]
  },
  {
   "cell_type": "code",
   "execution_count": null,
   "id": "9f7b8082",
   "metadata": {
    "scrolled": true
   },
   "outputs": [],
   "source": [
    "all_grains, labels, mask_all, fig, ax = seg.get_grains_from_patches(ax, image)"
   ]
  },
  {
   "cell_type": "markdown",
   "id": "36ca344c",
   "metadata": {},
   "source": [
    "Plot the updated set of grains:"
   ]
  },
  {
   "cell_type": "code",
   "execution_count": null,
   "id": "7e0f7f02",
   "metadata": {},
   "outputs": [],
   "source": [
    "fig, ax = plt.subplots(figsize=(15,10))\n",
    "ax.imshow(image)\n",
    "plt.xticks([])\n",
    "plt.yticks([])\n",
    "seg.plot_image_w_colorful_grains(image, all_grains, ax, cmap='Paired')\n",
    "seg.plot_grain_axes_and_centroids(all_grains, labels, ax, linewidth=1, markersize=10)\n",
    "plt.xlim([0, np.shape(image)[1]])\n",
    "plt.ylim([np.shape(image)[0], 0]);"
   ]
  },
  {
   "cell_type": "markdown",
   "id": "ab7201a5",
   "metadata": {
    "tags": []
   },
   "source": [
    "## Add new grains using the Segment Anything Model\n",
    "\n",
    "* click on unsegmented grain that you want to add\n",
    "* press the 'x' key if you want to delete the last grain you added\n",
    "* press the 'm' key if you want to merge the last two grains that you added\n",
    "* right click outside the grain (but inside the most recent mask) if you want to restrict the grain to a smaller mask - this adds a background prompt"
   ]
  },
  {
   "cell_type": "code",
   "execution_count": null,
   "id": "04b1a138",
   "metadata": {},
   "outputs": [],
   "source": [
    "predictor = SamPredictor(sam)\n",
    "predictor.set_image(image) # this can take a while\n",
    "coords = []\n",
    "cid3 = fig.canvas.mpl_connect('button_press_event', lambda event: seg.onclick(event, ax, coords, image, predictor))\n",
    "cid4 = fig.canvas.mpl_connect('key_press_event', lambda event: seg.onpress(event, ax, fig))"
   ]
  },
  {
   "cell_type": "markdown",
   "id": "6ae4b89a",
   "metadata": {},
   "source": [
    "After you are done with the deletion / addition of grain masks, run this cell to generate an updated set of grains:"
   ]
  },
  {
   "cell_type": "code",
   "execution_count": null,
   "id": "02386a92",
   "metadata": {},
   "outputs": [],
   "source": [
    "fig.canvas.mpl_disconnect(cid3)\n",
    "fig.canvas.mpl_disconnect(cid4)"
   ]
  },
  {
   "cell_type": "code",
   "execution_count": null,
   "id": "4355b526",
   "metadata": {},
   "outputs": [],
   "source": [
    "all_grains, labels, mask_all, fig, ax = seg.get_grains_from_patches(ax, image)"
   ]
  },
  {
   "cell_type": "code",
   "execution_count": null,
   "id": "98e01389",
   "metadata": {},
   "outputs": [],
   "source": [
    "all_grains"
   ]
  },
  {
   "cell_type": "markdown",
   "id": "768a05d2",
   "metadata": {
    "tags": []
   },
   "source": [
    "## Get grain size distribution"
   ]
  },
  {
   "cell_type": "markdown",
   "id": "96892a89",
   "metadata": {},
   "source": [
    "Run this cell and then click (left mouse button) on one end of the scale bar in the image and click (right mouse button) on the other end of the scale bar:"
   ]
  },
  {
   "cell_type": "code",
   "execution_count": null,
   "id": "869c6cd4",
   "metadata": {},
   "outputs": [],
   "source": [
    "cid5 = fig.canvas.mpl_connect('button_press_event', lambda event: seg.click_for_scale(event, ax))"
   ]
  },
  {
   "cell_type": "markdown",
   "id": "658e2f0a",
   "metadata": {},
   "source": [
    "Use the length of the scale bar in pixels (it should be printed above) to get the scale of the image (in units / pixel):"
   ]
  },
  {
   "cell_type": "code",
   "execution_count": null,
   "id": "7893cfb7",
   "metadata": {},
   "outputs": [],
   "source": [
    "n_of_units = 300 # centimeters in the case of 'IMG_5208_image.png' \n",
    "units_per_pixel = n_of_units/1194.81 # length of scale bar in pixels"
   ]
  },
  {
   "cell_type": "code",
   "execution_count": null,
   "id": "b56c5732",
   "metadata": {},
   "outputs": [],
   "source": [
    "props = regionprops_table(labels.astype('int'), intensity_image = image, properties =\\\n",
    "        ('label', 'area', 'centroid', 'major_axis_length', 'minor_axis_length', \n",
    "         'orientation', 'perimeter', 'max_intensity', 'mean_intensity', 'min_intensity'))\n",
    "grain_data = pd.DataFrame(props)\n",
    "grain_data['major_axis_length'] = grain_data['major_axis_length'].values*units_per_pixel\n",
    "grain_data['minor_axis_length'] = grain_data['minor_axis_length'].values*units_per_pixel\n",
    "grain_data['perimeter'] = grain_data['perimeter'].values*units_per_pixel\n",
    "grain_data['area'] = grain_data['area'].values*units_per_pixel**2"
   ]
  },
  {
   "cell_type": "code",
   "execution_count": null,
   "id": "ac989ca0",
   "metadata": {},
   "outputs": [],
   "source": [
    "props"
   ]
  },
  {
   "cell_type": "code",
   "execution_count": null,
   "id": "59629108",
   "metadata": {},
   "outputs": [],
   "source": [
    "grain_data.head()"
   ]
  },
  {
   "cell_type": "code",
   "execution_count": null,
   "id": "202f5650",
   "metadata": {},
   "outputs": [],
   "source": [
    "len(grain_data)"
   ]
  },
  {
   "cell_type": "code",
   "execution_count": null,
   "id": "a8663eef",
   "metadata": {},
   "outputs": [],
   "source": [
    "plt.figure()\n",
    "plt.hist(grain_data['major_axis_length'], 25)\n",
    "plt.xlabel('major axis length (cm)')\n",
    "plt.ylabel('count');"
   ]
  },
  {
   "cell_type": "markdown",
   "id": "039415c6",
   "metadata": {
    "tags": []
   },
   "source": [
    "## Save mask and image to PNG files"
   ]
  },
  {
   "cell_type": "code",
   "execution_count": null,
   "id": "c4962ba6",
   "metadata": {},
   "outputs": [],
   "source": [
    "#dirname = 'C:/Users/ana.torresferreira/Desktop/Segmenteverygrain/Outputs/ML2_H2'\n",
    "# write grayscale mask to PNG file\n",
    "#cv2.imwrite(dirname + fname.split('/')[-1][:-4] + '_mask.png', mask_all)\n",
    "# Save the image as a PNG file\n",
    "#cv2.imwrite(dirname + fname.split('/')[-1][:-4] + '_image.png', cv2.cvtColor(image, cv2.COLOR_BGR2RGB))"
   ]
  },
  {
   "cell_type": "markdown",
   "id": "24f154fb",
   "metadata": {
    "tags": []
   },
   "source": [
    "## Convert polygon rows and columns coordinates to projected coordinates and save them to shapefile"
   ]
  },
  {
   "cell_type": "code",
   "execution_count": null,
   "id": "111b38d5-d952-475a-8fc5-1d46100b4bb5",
   "metadata": {},
   "outputs": [],
   "source": [
    "fname1 = \"./SM1_H1.2_r.tif\""
   ]
  },
  {
   "cell_type": "code",
   "execution_count": null,
   "id": "16c934cc",
   "metadata": {},
   "outputs": [],
   "source": [
    "import rasterio\n",
    "dataset = rasterio.open(fname1)"
   ]
  },
  {
   "cell_type": "code",
   "execution_count": null,
   "id": "3c4fe439",
   "metadata": {},
   "outputs": [],
   "source": [
    "dataset.meta"
   ]
  },
  {
   "cell_type": "code",
   "execution_count": null,
   "id": "26b2fc5b",
   "metadata": {},
   "outputs": [],
   "source": [
    "# convert polygon coordinates from row, col to UTM\n",
    "from shapely.geometry import Polygon\n",
    "projected_polys = []\n",
    "for grain in all_grains:\n",
    "    x, y = rasterio.transform.xy(dataset.transform, grain.exterior.xy[1], grain.exterior.xy[0])\n",
    "    poly = Polygon(np.vstack((x, y)).T)\n",
    "    projected_polys.append(poly)"
   ]
  },
  {
   "cell_type": "code",
   "execution_count": null,
   "id": "13746f7b",
   "metadata": {},
   "outputs": [],
   "source": [
    "# create georeferenced pandas dataframe\n",
    "import geopandas\n",
    "gdf = geopandas.GeoDataFrame(projected_polys, columns = ['geometry'])\n",
    "gdf.head(5)"
   ]
  },
  {
   "cell_type": "code",
   "execution_count": null,
   "id": "548b71c0",
   "metadata": {},
   "outputs": [],
   "source": [
    "# create property dataframe from labeled image\n",
    "props = regionprops_table(labels.astype('int'), intensity_image = image, properties =\\\n",
    "        ('label', 'area', 'centroid', 'major_axis_length', 'minor_axis_length'))\n",
    "grain_data = pd.DataFrame(props)\n",
    "grain_data['major_axis_length'] = grain_data['major_axis_length'].values\n",
    "grain_data['minor_axis_length'] = grain_data['minor_axis_length'].values\n",
    "grain_data['area'] = grain_data['area'].values\n",
    "grain_data.head()"
   ]
  },
  {
   "cell_type": "code",
   "execution_count": null,
   "id": "b727282f-e0c7-4d83-8506-515d8911aa0d",
   "metadata": {},
   "outputs": [],
   "source": [
    "# Ensure centroid_x and centroid_y are the same length as gdf\n",
    "centroid_x, centroid_y = rasterio.transform.xy(dataset.transform, grain_data['centroid-0'], \n",
    "                                               grain_data['centroid-1'])"
   ]
  },
  {
   "cell_type": "code",
   "execution_count": null,
   "id": "5cdc4fd7-7aea-41bd-8f89-a598c99591bf",
   "metadata": {},
   "outputs": [],
   "source": [
    "# Check if lengths match between gdf and centroid arrays\n",
    "if len(centroid_x) != len(gdf):\n",
    "    print(f\"Length of centroids (x: {len(centroid_x)}, y: {len(centroid_y)}) does not match gdf length ({len(gdf)})\")\n",
    "    \n",
    "    # Truncate gdf to match the length of centroids if gdf is longer\n",
    "    if len(gdf) > len(centroid_x):\n",
    "        gdf = gdf.iloc[:len(centroid_x)]\n",
    "    # Or truncate the centroid arrays if they are longer than gdf\n",
    "    else:\n",
    "        centroid_x = centroid_x[:len(gdf)]\n",
    "        centroid_y = centroid_y[:len(gdf)]\n",
    "\n",
    "# Assign the adjusted centroid_x and centroid_y to the GeoDataFrame\n",
    "gdf['centroid_x'] = centroid_x\n",
    "gdf['centroid_y'] = centroid_y\n",
    "\n",
    "# Check the output to ensure the lengths now match\n",
    "print(f\"Updated gdf length: {len(gdf)}, Centroid lengths: x = {len(centroid_x)}, y = {len(centroid_y)}\")\n"
   ]
  },
  {
   "cell_type": "code",
   "execution_count": null,
   "id": "552ca32c",
   "metadata": {
    "scrolled": true
   },
   "outputs": [],
   "source": [
    "# convert centroids from row, col to UTM and add them to geodataframe\n",
    "centroid_x, centroid_y = rasterio.transform.xy(dataset.transform, grain_data['centroid-0'], \n",
    "                                               grain_data['centroid-1'])\n",
    "gdf['centroid_x'] = centroid_x\n",
    "gdf['centroid_y'] = centroid_y"
   ]
  },
  {
   "cell_type": "code",
   "execution_count": null,
   "id": "f1b8a302",
   "metadata": {},
   "outputs": [],
   "source": [
    "# convert grain axis lengths to UTM units\n",
    "gdf['major_axis_length'] = grain_data['major_axis_length'] * dataset.transform[0]\n",
    "gdf['minor_axis_length'] = grain_data['minor_axis_length'] * dataset.transform[0]\n",
    "gdf.head()"
   ]
  },
  {
   "cell_type": "code",
   "execution_count": null,
   "id": "1a7a7dd3",
   "metadata": {},
   "outputs": [],
   "source": [
    "# check if everything looks good\n",
    "band1 = dataset.read(1)\n",
    "band2 = dataset.read(2)\n",
    "band3 = dataset.read(3)\n",
    "plt.figure()\n",
    "plt.imshow(np.stack((band1, band2, band3), axis=2), extent = [dataset.bounds[0], dataset.bounds[2], \n",
    "                                         dataset.bounds[1], dataset.bounds[3]])\n",
    "plt.scatter(gdf['centroid_x'], gdf['centroid_y']);"
   ]
  },
  {
   "cell_type": "code",
   "execution_count": null,
   "id": "2e284de5",
   "metadata": {},
   "outputs": [],
   "source": [
    "gdf.crs = dataset.crs # set geodataframe CRS"
   ]
  },
  {
   "cell_type": "code",
   "execution_count": null,
   "id": "27f9b8b3",
   "metadata": {},
   "outputs": [],
   "source": [
    "gdf.to_file('C:/Users/ana.torresferreira/Desktop/Segmenteverygrain/Outputs/SM1_H1.2/SM1_H1.2.shp')"
   ]
  },
  {
   "cell_type": "code",
   "execution_count": null,
   "id": "b0df1b9f-063b-4122-ab15-b61bae587996",
   "metadata": {},
   "outputs": [],
   "source": [
    "#pip install openpyxl"
   ]
  },
  {
   "cell_type": "code",
   "execution_count": null,
   "id": "0cc457e4",
   "metadata": {},
   "outputs": [],
   "source": [
    "gdf.to_excel('C:/Users/ana.torresferreira/Desktop/Segmenteverygrain/Outputs/SM1_H1.2/SM1_H1.2.xlsx')"
   ]
  },
  {
   "cell_type": "code",
   "execution_count": null,
   "id": "361ceb2d",
   "metadata": {},
   "outputs": [],
   "source": [
    "dataset.close()"
   ]
  },
  {
   "cell_type": "code",
   "execution_count": null,
   "id": "c5e0f319-c025-44fb-9819-5d0c2196845d",
   "metadata": {},
   "outputs": [],
   "source": []
  }
 ],
 "metadata": {
  "kernelspec": {
   "display_name": "Python 3 (ipykernel)",
   "language": "python",
   "name": "python3"
  },
  "language_info": {
   "codemirror_mode": {
    "name": "ipython",
    "version": 3
   },
   "file_extension": ".py",
   "mimetype": "text/x-python",
   "name": "python",
   "nbconvert_exporter": "python",
   "pygments_lexer": "ipython3",
   "version": "3.8.20"
  }
 },
 "nbformat": 4,
 "nbformat_minor": 5
}
